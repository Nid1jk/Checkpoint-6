{
 "cells": [
  {
   "cell_type": "code",
   "execution_count": 1,
   "id": "fd07080f",
   "metadata": {},
   "outputs": [],
   "source": [
    "import numpy as np"
   ]
  },
  {
   "cell_type": "code",
   "execution_count": 20,
   "id": "fcfa7ccf",
   "metadata": {},
   "outputs": [
    {
     "data": {
      "text/plain": [
       "[1, 2, 35, 8, 9]"
      ]
     },
     "execution_count": 20,
     "metadata": {},
     "output_type": "execute_result"
    }
   ],
   "source": [
    "#Question 1:\n",
    "x=np.array([1,2,35,8,9])\n",
    "x.tolist()"
   ]
  },
  {
   "cell_type": "code",
   "execution_count": 28,
   "id": "e6e42102",
   "metadata": {},
   "outputs": [
    {
     "name": "stdout",
     "output_type": "stream",
     "text": [
      "12\n"
     ]
    }
   ],
   "source": [
    "#Question 2:\n",
    "b=np.array([[1,2,3],[5,8,9],[12,8,3]])\n",
    "h=np.trace(b)\n",
    "print(h)"
   ]
  },
  {
   "cell_type": "code",
   "execution_count": 70,
   "id": "21069bb7",
   "metadata": {},
   "outputs": [
    {
     "name": "stdout",
     "output_type": "stream",
     "text": [
      "give x:3\n",
      "[5 9]\n"
     ]
    }
   ],
   "source": [
    "#Question 3:\n",
    "array=np.array([[1,2,3],[5,9,3]])\n",
    "x=int(input(\"give x:\"))\n",
    "print(array[array>x])"
   ]
  },
  {
   "cell_type": "code",
   "execution_count": 79,
   "id": "3b08a711",
   "metadata": {},
   "outputs": [
    {
     "name": "stdout",
     "output_type": "stream",
     "text": [
      "[[ 9  7  9]\n",
      " [ 6 13  9]\n",
      " [ 5 10  6]]\n"
     ]
    }
   ],
   "source": [
    "#Question 4:\n",
    "A=np.array([[1,2,3],[5,4,1],[3,9,2]])\n",
    "B=np.array([[8,5,6],[1,9,8],[2,1,4]])\n",
    "C = np.add(A,B)\n",
    "print(C)"
   ]
  },
  {
   "cell_type": "code",
   "execution_count": 87,
   "id": "8c17d991",
   "metadata": {},
   "outputs": [
    {
     "name": "stdout",
     "output_type": "stream",
     "text": [
      "[[-1.          0.          1.        ]\n",
      " [ 0.33333333  3.33333333 -3.66666667]\n",
      " [-1.         -2.          3.        ]]\n"
     ]
    }
   ],
   "source": [
    "#Question 5:\n",
    "D=np.array([[1,2,3],[6,9,2],[3,2,7]])\n",
    "E=D-D.mean(axis=1,keepdims=True)\n",
    "print(E)"
   ]
  },
  {
   "cell_type": "code",
   "execution_count": null,
   "id": "971ab6b4",
   "metadata": {},
   "outputs": [],
   "source": []
  },
  {
   "cell_type": "code",
   "execution_count": null,
   "id": "f22de155",
   "metadata": {},
   "outputs": [],
   "source": []
  }
 ],
 "metadata": {
  "kernelspec": {
   "display_name": "Python 3 (ipykernel)",
   "language": "python",
   "name": "python3"
  },
  "language_info": {
   "codemirror_mode": {
    "name": "ipython",
    "version": 3
   },
   "file_extension": ".py",
   "mimetype": "text/x-python",
   "name": "python",
   "nbconvert_exporter": "python",
   "pygments_lexer": "ipython3",
   "version": "3.9.6"
  }
 },
 "nbformat": 4,
 "nbformat_minor": 5
}
